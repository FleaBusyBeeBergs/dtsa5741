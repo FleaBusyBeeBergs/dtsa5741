{
  "cells": [
    {
      "cell_type": "markdown",
      "metadata": {
        "id": "view-in-github",
        "colab_type": "text"
      },
      "source": [
        "<a href=\"https://colab.research.google.com/github/FleaBusyBeeBergs/dtsa5741/blob/main/Assignment%203%20_%20Stearmflow%20Data%20via%20NWIS.ipynb\" target=\"_parent\"><img src=\"https://colab.research.google.com/assets/colab-badge.svg\" alt=\"Open In Colab\"/></a>"
      ]
    },
    {
      "cell_type": "markdown",
      "metadata": {
        "id": "Pd82EsLhMudg"
      },
      "source": [
        "### Assignment 3: Access Streamflow Data via NWIS\n",
        "\n",
        "In this lab, you will use the library `dataretriveal.nwis` to access streamflow data. From the github repository, `dataretrieval` was created to simplify the process of loading hydrologic data. It is designed to retrieve the major data types of U.S. Geological Survey (USGS) hydrology data that are available on the Web, as well as data from the Water Quality Portal (WQP), which currently houses water quality data from the Environmental Protection Agency (EPA), U.S. Department of Agriculture (USDA), and USGS. Direct USGS data is obtained from a service called the National Water Information System (NWIS).\n",
        "\n",
        "For this lab, you will need to install `dataretriveal`. For more information, review the [github repository](https://github.com/DOI-USGS/dataretrieval-python)."
      ]
    },
    {
      "cell_type": "code",
      "execution_count": null,
      "metadata": {
        "id": "w8CfTLrkMudj"
      },
      "outputs": [],
      "source": [
        "import dataretrieval.nwis as nwis\n",
        "import pandas as pd"
      ]
    },
    {
      "cell_type": "markdown",
      "metadata": {
        "id": "fFBHx_XMMudl"
      },
      "source": [
        "For this lab, you need to retrive streamflow data from March 1 2024 to March 31 2024 and calculate the mean of the streamflow data. Use the starter code to calculate your mean value.\n",
        "\n"
      ]
    },
    {
      "cell_type": "code",
      "execution_count": null,
      "metadata": {
        "id": "t2aprtbuMudl"
      },
      "outputs": [],
      "source": [
        "import dataretrieval.nwis as nwis\n",
        "import pandas as pd\n",
        "\n",
        "# Define site number and date range\n",
        "site_no = '07106500'\n",
        "start_date = '2024-03-01'\n",
        "end_date = '2024-03-31'\n",
        "serv_type = 'dv'\n",
        "\n",
        "# Retrieve the data. Note you will need to add the get_record() parameters.\n",
        "data = nwis.get_record()\n",
        "\n",
        "# The data is already in a DataFrame format\n",
        "# The parameter code for streamflow is '00060' and for the daily value we will be using '00060_Mean' column.\n",
        "# Find the mean of the streamflow data for March 2024 i.e. find the mean of the '00060_Mean' column\n",
        "\n",
        "# mean_streamflow =\n",
        "\n",
        "print(mean_streamflow)"
      ]
    },
    {
      "cell_type": "markdown",
      "metadata": {
        "id": "em3r7hvwMudm"
      },
      "source": [
        "Now that you have calculated the mean, use the following quiz to check your answer."
      ]
    }
  ],
  "metadata": {
    "kernelspec": {
      "display_name": "py3.10",
      "language": "python",
      "name": "python3"
    },
    "language_info": {
      "codemirror_mode": {
        "name": "ipython",
        "version": 3
      },
      "file_extension": ".py",
      "mimetype": "text/x-python",
      "name": "python",
      "nbconvert_exporter": "python",
      "pygments_lexer": "ipython3",
      "version": "3.10.13"
    },
    "colab": {
      "provenance": [],
      "include_colab_link": true
    }
  },
  "nbformat": 4,
  "nbformat_minor": 0
}
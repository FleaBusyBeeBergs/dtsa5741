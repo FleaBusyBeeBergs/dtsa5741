{
  "cells": [
    {
      "cell_type": "markdown",
      "metadata": {
        "id": "view-in-github",
        "colab_type": "text"
      },
      "source": [
        "<a href=\"https://colab.research.google.com/github/FleaBusyBeeBergs/dtsa5741/blob/main/NWIS_demo_1.ipynb\" target=\"_parent\"><img src=\"https://colab.research.google.com/assets/colab-badge.svg\" alt=\"Open In Colab\"/></a>"
      ]
    },
    {
      "cell_type": "markdown",
      "metadata": {
        "id": "AOG_Jfg_hK8C"
      },
      "source": [
        "# National trends in peak annual streamflow\n",
        "\n",
        "## Introduction\n",
        "\n",
        "This notebook demonstrates a slightly more advanced application of data_retrieval.nwis to collect  using a national dataset of historical peak annual streamflow measurements. The objective is to use a regression of peak annual streamflow and time to identify any trends. But, not for a singile station,"
      ]
    },
    {
      "cell_type": "markdown",
      "metadata": {
        "id": "Yk9j_7VhhK8G"
      },
      "source": [
        "## Setup\n",
        "Before we begin any analysis, we'll need to setup our environment by importing any modules."
      ]
    },
    {
      "cell_type": "code",
      "source": [
        "!pip install dataretrieval -q"
      ],
      "metadata": {
        "id": "33IBe9K1hSAp"
      },
      "execution_count": 3,
      "outputs": []
    },
    {
      "cell_type": "code",
      "execution_count": 4,
      "metadata": {
        "id": "BOjbAikzhK8H"
      },
      "outputs": [],
      "source": [
        "from scipy import stats\n",
        "import pandas as pd\n",
        "import numpy as np\n",
        "\n",
        "\n",
        "\n",
        "from dataretrieval import nwis, utils, codes"
      ]
    },
    {
      "cell_type": "markdown",
      "metadata": {
        "id": "UOsHepyihK8H"
      },
      "source": [
        "## Basic usage\n",
        "Recall that the basic way to download data from NWIS is through through the `nwis.get_record()` function, which returns a user-specified record as a `pandas` dataframe. The `nwis.get_record()` function is really a facade of sorts, that allows the user to download data from various NWIS services through a consistant interface. To get started, we require a few simple parameters: a list of site numbers or states codes, a service, and a start date."
      ]
    },
    {
      "cell_type": "code",
      "execution_count": 5,
      "metadata": {
        "colab": {
          "base_uri": "https://localhost:8080/",
          "height": 238
        },
        "id": "VpE3zyIfhK8I",
        "outputId": "5ea4411e-1f02-4e36-bf80-1b607347d9bc"
      },
      "outputs": [
        {
          "output_type": "execute_result",
          "data": {
            "text/plain": [
              "                          agency_cd   site_no peak_tm  peak_va peak_cd  \\\n",
              "datetime                                                                 \n",
              "1970-04-20 00:00:00+00:00      USGS  03339000     NaN    16300       5   \n",
              "1971-02-05 00:00:00+00:00      USGS  03339000     NaN     8910       5   \n",
              "1972-04-22 00:00:00+00:00      USGS  03339000     NaN     9240       5   \n",
              "1973-04-23 00:00:00+00:00      USGS  03339000     NaN    16600       5   \n",
              "1974-06-23 00:00:00+00:00      USGS  03339000     NaN    19500       5   \n",
              "\n",
              "                           gage_ht  gage_ht_cd  year_last_pk ag_dt  ag_tm  \\\n",
              "datetime                                                                    \n",
              "1970-04-20 00:00:00+00:00    19.80         NaN           NaN   NaN    NaN   \n",
              "1971-02-05 00:00:00+00:00    13.61         NaN           NaN   NaN    NaN   \n",
              "1972-04-22 00:00:00+00:00    13.94         NaN           NaN   NaN    NaN   \n",
              "1973-04-23 00:00:00+00:00    20.00         NaN           NaN   NaN    NaN   \n",
              "1974-06-23 00:00:00+00:00    21.70         NaN           NaN   NaN    NaN   \n",
              "\n",
              "                           ag_gage_ht  ag_gage_ht_cd  \n",
              "datetime                                              \n",
              "1970-04-20 00:00:00+00:00         NaN            NaN  \n",
              "1971-02-05 00:00:00+00:00         NaN            NaN  \n",
              "1972-04-22 00:00:00+00:00         NaN            NaN  \n",
              "1973-04-23 00:00:00+00:00         NaN            NaN  \n",
              "1974-06-23 00:00:00+00:00         NaN            NaN  "
            ],
            "text/html": [
              "\n",
              "  <div id=\"df-dc291c2c-b0e5-4644-950a-9e8f9c58d844\" class=\"colab-df-container\">\n",
              "    <div>\n",
              "<style scoped>\n",
              "    .dataframe tbody tr th:only-of-type {\n",
              "        vertical-align: middle;\n",
              "    }\n",
              "\n",
              "    .dataframe tbody tr th {\n",
              "        vertical-align: top;\n",
              "    }\n",
              "\n",
              "    .dataframe thead th {\n",
              "        text-align: right;\n",
              "    }\n",
              "</style>\n",
              "<table border=\"1\" class=\"dataframe\">\n",
              "  <thead>\n",
              "    <tr style=\"text-align: right;\">\n",
              "      <th></th>\n",
              "      <th>agency_cd</th>\n",
              "      <th>site_no</th>\n",
              "      <th>peak_tm</th>\n",
              "      <th>peak_va</th>\n",
              "      <th>peak_cd</th>\n",
              "      <th>gage_ht</th>\n",
              "      <th>gage_ht_cd</th>\n",
              "      <th>year_last_pk</th>\n",
              "      <th>ag_dt</th>\n",
              "      <th>ag_tm</th>\n",
              "      <th>ag_gage_ht</th>\n",
              "      <th>ag_gage_ht_cd</th>\n",
              "    </tr>\n",
              "    <tr>\n",
              "      <th>datetime</th>\n",
              "      <th></th>\n",
              "      <th></th>\n",
              "      <th></th>\n",
              "      <th></th>\n",
              "      <th></th>\n",
              "      <th></th>\n",
              "      <th></th>\n",
              "      <th></th>\n",
              "      <th></th>\n",
              "      <th></th>\n",
              "      <th></th>\n",
              "      <th></th>\n",
              "    </tr>\n",
              "  </thead>\n",
              "  <tbody>\n",
              "    <tr>\n",
              "      <th>1970-04-20 00:00:00+00:00</th>\n",
              "      <td>USGS</td>\n",
              "      <td>03339000</td>\n",
              "      <td>NaN</td>\n",
              "      <td>16300</td>\n",
              "      <td>5</td>\n",
              "      <td>19.80</td>\n",
              "      <td>NaN</td>\n",
              "      <td>NaN</td>\n",
              "      <td>NaN</td>\n",
              "      <td>NaN</td>\n",
              "      <td>NaN</td>\n",
              "      <td>NaN</td>\n",
              "    </tr>\n",
              "    <tr>\n",
              "      <th>1971-02-05 00:00:00+00:00</th>\n",
              "      <td>USGS</td>\n",
              "      <td>03339000</td>\n",
              "      <td>NaN</td>\n",
              "      <td>8910</td>\n",
              "      <td>5</td>\n",
              "      <td>13.61</td>\n",
              "      <td>NaN</td>\n",
              "      <td>NaN</td>\n",
              "      <td>NaN</td>\n",
              "      <td>NaN</td>\n",
              "      <td>NaN</td>\n",
              "      <td>NaN</td>\n",
              "    </tr>\n",
              "    <tr>\n",
              "      <th>1972-04-22 00:00:00+00:00</th>\n",
              "      <td>USGS</td>\n",
              "      <td>03339000</td>\n",
              "      <td>NaN</td>\n",
              "      <td>9240</td>\n",
              "      <td>5</td>\n",
              "      <td>13.94</td>\n",
              "      <td>NaN</td>\n",
              "      <td>NaN</td>\n",
              "      <td>NaN</td>\n",
              "      <td>NaN</td>\n",
              "      <td>NaN</td>\n",
              "      <td>NaN</td>\n",
              "    </tr>\n",
              "    <tr>\n",
              "      <th>1973-04-23 00:00:00+00:00</th>\n",
              "      <td>USGS</td>\n",
              "      <td>03339000</td>\n",
              "      <td>NaN</td>\n",
              "      <td>16600</td>\n",
              "      <td>5</td>\n",
              "      <td>20.00</td>\n",
              "      <td>NaN</td>\n",
              "      <td>NaN</td>\n",
              "      <td>NaN</td>\n",
              "      <td>NaN</td>\n",
              "      <td>NaN</td>\n",
              "      <td>NaN</td>\n",
              "    </tr>\n",
              "    <tr>\n",
              "      <th>1974-06-23 00:00:00+00:00</th>\n",
              "      <td>USGS</td>\n",
              "      <td>03339000</td>\n",
              "      <td>NaN</td>\n",
              "      <td>19500</td>\n",
              "      <td>5</td>\n",
              "      <td>21.70</td>\n",
              "      <td>NaN</td>\n",
              "      <td>NaN</td>\n",
              "      <td>NaN</td>\n",
              "      <td>NaN</td>\n",
              "      <td>NaN</td>\n",
              "      <td>NaN</td>\n",
              "    </tr>\n",
              "  </tbody>\n",
              "</table>\n",
              "</div>\n",
              "    <div class=\"colab-df-buttons\">\n",
              "\n",
              "  <div class=\"colab-df-container\">\n",
              "    <button class=\"colab-df-convert\" onclick=\"convertToInteractive('df-dc291c2c-b0e5-4644-950a-9e8f9c58d844')\"\n",
              "            title=\"Convert this dataframe to an interactive table.\"\n",
              "            style=\"display:none;\">\n",
              "\n",
              "  <svg xmlns=\"http://www.w3.org/2000/svg\" height=\"24px\" viewBox=\"0 -960 960 960\">\n",
              "    <path d=\"M120-120v-720h720v720H120Zm60-500h600v-160H180v160Zm220 220h160v-160H400v160Zm0 220h160v-160H400v160ZM180-400h160v-160H180v160Zm440 0h160v-160H620v160ZM180-180h160v-160H180v160Zm440 0h160v-160H620v160Z\"/>\n",
              "  </svg>\n",
              "    </button>\n",
              "\n",
              "  <style>\n",
              "    .colab-df-container {\n",
              "      display:flex;\n",
              "      gap: 12px;\n",
              "    }\n",
              "\n",
              "    .colab-df-convert {\n",
              "      background-color: #E8F0FE;\n",
              "      border: none;\n",
              "      border-radius: 50%;\n",
              "      cursor: pointer;\n",
              "      display: none;\n",
              "      fill: #1967D2;\n",
              "      height: 32px;\n",
              "      padding: 0 0 0 0;\n",
              "      width: 32px;\n",
              "    }\n",
              "\n",
              "    .colab-df-convert:hover {\n",
              "      background-color: #E2EBFA;\n",
              "      box-shadow: 0px 1px 2px rgba(60, 64, 67, 0.3), 0px 1px 3px 1px rgba(60, 64, 67, 0.15);\n",
              "      fill: #174EA6;\n",
              "    }\n",
              "\n",
              "    .colab-df-buttons div {\n",
              "      margin-bottom: 4px;\n",
              "    }\n",
              "\n",
              "    [theme=dark] .colab-df-convert {\n",
              "      background-color: #3B4455;\n",
              "      fill: #D2E3FC;\n",
              "    }\n",
              "\n",
              "    [theme=dark] .colab-df-convert:hover {\n",
              "      background-color: #434B5C;\n",
              "      box-shadow: 0px 1px 3px 1px rgba(0, 0, 0, 0.15);\n",
              "      filter: drop-shadow(0px 1px 2px rgba(0, 0, 0, 0.3));\n",
              "      fill: #FFFFFF;\n",
              "    }\n",
              "  </style>\n",
              "\n",
              "    <script>\n",
              "      const buttonEl =\n",
              "        document.querySelector('#df-dc291c2c-b0e5-4644-950a-9e8f9c58d844 button.colab-df-convert');\n",
              "      buttonEl.style.display =\n",
              "        google.colab.kernel.accessAllowed ? 'block' : 'none';\n",
              "\n",
              "      async function convertToInteractive(key) {\n",
              "        const element = document.querySelector('#df-dc291c2c-b0e5-4644-950a-9e8f9c58d844');\n",
              "        const dataTable =\n",
              "          await google.colab.kernel.invokeFunction('convertToInteractive',\n",
              "                                                    [key], {});\n",
              "        if (!dataTable) return;\n",
              "\n",
              "        const docLinkHtml = 'Like what you see? Visit the ' +\n",
              "          '<a target=\"_blank\" href=https://colab.research.google.com/notebooks/data_table.ipynb>data table notebook</a>'\n",
              "          + ' to learn more about interactive tables.';\n",
              "        element.innerHTML = '';\n",
              "        dataTable['output_type'] = 'display_data';\n",
              "        await google.colab.output.renderOutput(dataTable, element);\n",
              "        const docLink = document.createElement('div');\n",
              "        docLink.innerHTML = docLinkHtml;\n",
              "        element.appendChild(docLink);\n",
              "      }\n",
              "    </script>\n",
              "  </div>\n",
              "\n",
              "\n",
              "    <div id=\"df-1d2bae0b-2904-4218-b704-5217e7ae8b2f\">\n",
              "      <button class=\"colab-df-quickchart\" onclick=\"quickchart('df-1d2bae0b-2904-4218-b704-5217e7ae8b2f')\"\n",
              "                title=\"Suggest charts\"\n",
              "                style=\"display:none;\">\n",
              "\n",
              "<svg xmlns=\"http://www.w3.org/2000/svg\" height=\"24px\"viewBox=\"0 0 24 24\"\n",
              "     width=\"24px\">\n",
              "    <g>\n",
              "        <path d=\"M19 3H5c-1.1 0-2 .9-2 2v14c0 1.1.9 2 2 2h14c1.1 0 2-.9 2-2V5c0-1.1-.9-2-2-2zM9 17H7v-7h2v7zm4 0h-2V7h2v10zm4 0h-2v-4h2v4z\"/>\n",
              "    </g>\n",
              "</svg>\n",
              "      </button>\n",
              "\n",
              "<style>\n",
              "  .colab-df-quickchart {\n",
              "      --bg-color: #E8F0FE;\n",
              "      --fill-color: #1967D2;\n",
              "      --hover-bg-color: #E2EBFA;\n",
              "      --hover-fill-color: #174EA6;\n",
              "      --disabled-fill-color: #AAA;\n",
              "      --disabled-bg-color: #DDD;\n",
              "  }\n",
              "\n",
              "  [theme=dark] .colab-df-quickchart {\n",
              "      --bg-color: #3B4455;\n",
              "      --fill-color: #D2E3FC;\n",
              "      --hover-bg-color: #434B5C;\n",
              "      --hover-fill-color: #FFFFFF;\n",
              "      --disabled-bg-color: #3B4455;\n",
              "      --disabled-fill-color: #666;\n",
              "  }\n",
              "\n",
              "  .colab-df-quickchart {\n",
              "    background-color: var(--bg-color);\n",
              "    border: none;\n",
              "    border-radius: 50%;\n",
              "    cursor: pointer;\n",
              "    display: none;\n",
              "    fill: var(--fill-color);\n",
              "    height: 32px;\n",
              "    padding: 0;\n",
              "    width: 32px;\n",
              "  }\n",
              "\n",
              "  .colab-df-quickchart:hover {\n",
              "    background-color: var(--hover-bg-color);\n",
              "    box-shadow: 0 1px 2px rgba(60, 64, 67, 0.3), 0 1px 3px 1px rgba(60, 64, 67, 0.15);\n",
              "    fill: var(--button-hover-fill-color);\n",
              "  }\n",
              "\n",
              "  .colab-df-quickchart-complete:disabled,\n",
              "  .colab-df-quickchart-complete:disabled:hover {\n",
              "    background-color: var(--disabled-bg-color);\n",
              "    fill: var(--disabled-fill-color);\n",
              "    box-shadow: none;\n",
              "  }\n",
              "\n",
              "  .colab-df-spinner {\n",
              "    border: 2px solid var(--fill-color);\n",
              "    border-color: transparent;\n",
              "    border-bottom-color: var(--fill-color);\n",
              "    animation:\n",
              "      spin 1s steps(1) infinite;\n",
              "  }\n",
              "\n",
              "  @keyframes spin {\n",
              "    0% {\n",
              "      border-color: transparent;\n",
              "      border-bottom-color: var(--fill-color);\n",
              "      border-left-color: var(--fill-color);\n",
              "    }\n",
              "    20% {\n",
              "      border-color: transparent;\n",
              "      border-left-color: var(--fill-color);\n",
              "      border-top-color: var(--fill-color);\n",
              "    }\n",
              "    30% {\n",
              "      border-color: transparent;\n",
              "      border-left-color: var(--fill-color);\n",
              "      border-top-color: var(--fill-color);\n",
              "      border-right-color: var(--fill-color);\n",
              "    }\n",
              "    40% {\n",
              "      border-color: transparent;\n",
              "      border-right-color: var(--fill-color);\n",
              "      border-top-color: var(--fill-color);\n",
              "    }\n",
              "    60% {\n",
              "      border-color: transparent;\n",
              "      border-right-color: var(--fill-color);\n",
              "    }\n",
              "    80% {\n",
              "      border-color: transparent;\n",
              "      border-right-color: var(--fill-color);\n",
              "      border-bottom-color: var(--fill-color);\n",
              "    }\n",
              "    90% {\n",
              "      border-color: transparent;\n",
              "      border-bottom-color: var(--fill-color);\n",
              "    }\n",
              "  }\n",
              "</style>\n",
              "\n",
              "      <script>\n",
              "        async function quickchart(key) {\n",
              "          const quickchartButtonEl =\n",
              "            document.querySelector('#' + key + ' button');\n",
              "          quickchartButtonEl.disabled = true;  // To prevent multiple clicks.\n",
              "          quickchartButtonEl.classList.add('colab-df-spinner');\n",
              "          try {\n",
              "            const charts = await google.colab.kernel.invokeFunction(\n",
              "                'suggestCharts', [key], {});\n",
              "          } catch (error) {\n",
              "            console.error('Error during call to suggestCharts:', error);\n",
              "          }\n",
              "          quickchartButtonEl.classList.remove('colab-df-spinner');\n",
              "          quickchartButtonEl.classList.add('colab-df-quickchart-complete');\n",
              "        }\n",
              "        (() => {\n",
              "          let quickchartButtonEl =\n",
              "            document.querySelector('#df-1d2bae0b-2904-4218-b704-5217e7ae8b2f button');\n",
              "          quickchartButtonEl.style.display =\n",
              "            google.colab.kernel.accessAllowed ? 'block' : 'none';\n",
              "        })();\n",
              "      </script>\n",
              "    </div>\n",
              "\n",
              "    </div>\n",
              "  </div>\n"
            ],
            "application/vnd.google.colaboratory.intrinsic+json": {
              "type": "dataframe",
              "repr_error": "Out of range float values are not JSON compliant: nan"
            }
          },
          "metadata": {},
          "execution_count": 5
        }
      ],
      "source": [
        "# download annual peaks from a single site\n",
        "df = nwis.get_record(sites='03339000', service='peaks', start='1970-01-01')\n",
        "df.head()\n",
        "\n",
        "# alternatively information for the entire state of illiois can be downloaded using\n",
        "#df = nwis.get_record(state_cd='il', service='peaks', start='1970-01-01')"
      ]
    },
    {
      "cell_type": "markdown",
      "metadata": {
        "id": "ife6-4XthK8I"
      },
      "source": [
        "Most of the fields are empty, but no matter. All we require are date (`datetime`), site number (`site_no`), and peak streamflow (`peak_va`).\n",
        "\n",
        "Note that when multiple sites are specified, `nwis.get_record()` will combine `datetime` and `site_no` fields to create a multi-index dataframe."
      ]
    },
    {
      "cell_type": "markdown",
      "metadata": {
        "id": "7qIPMWMdhK8J"
      },
      "source": [
        "## Preparing the regression\n",
        "Next we'll define a function that applies ordinary least squares on peak discharge and time.\n",
        "After grouping the dataset by `site_no`, we will apply the regression on a per-site basis. The results from each site, will be returned as a row that includes the slope, y-intercept, r$^2$, p value, and standard error of the regression."
      ]
    },
    {
      "cell_type": "code",
      "execution_count": null,
      "metadata": {
        "id": "WOdZKnD7hK8J"
      },
      "outputs": [],
      "source": [
        "def peak_trend_regression(df):\n",
        "    \"\"\"\n",
        "    \"\"\"\n",
        "    #convert datetimes to days for regression\n",
        "    peak_date = df.index\n",
        "    peak_date = pd.to_datetime(df.index.get_level_values(1))\n",
        "    df['peak_d'] = (peak_date - peak_date.min()) / np.timedelta64(1,'D')\n",
        "    #df['peak_d'] = (df['peak_dt'] - df['peak_dt'].min())  / np.timedelta64(1,'D')\n",
        "\n",
        "    #normalize the peak discharge values\n",
        "    df['peak_va'] = (df['peak_va'] - df['peak_va'].mean())/df['peak_va'].std()\n",
        "\n",
        "    slope, intercept, r_value, p_value, std_error = stats.linregress(df['peak_d'], df['peak_va'])\n",
        "\n",
        "    #df_out = pd.DataFrame({'slope':slope,'intercept':intercept,'p_value':p_value},index=df['site_no'].iloc[0])\n",
        "\n",
        "    #return df_out\n",
        "    return pd.Series({'slope':slope,'intercept':intercept,'p_value': p_value,'std_error':std_error})"
      ]
    },
    {
      "cell_type": "markdown",
      "metadata": {
        "id": "HTzh5W3ahK8M"
      },
      "source": [
        "## Preparing the analysis"
      ]
    },
    {
      "cell_type": "code",
      "execution_count": null,
      "metadata": {
        "id": "XWbasHGHhK8N"
      },
      "outputs": [],
      "source": [
        "def peak_trend_analysis(states, start_date):\n",
        "    \"\"\"\n",
        "    states : list\n",
        "        a list containing the two-letter codes for each state to include in the\n",
        "        analysis.\n",
        "\n",
        "    start_date : string\n",
        "        the date to use a the beginning of the analysis.\n",
        "    \"\"\"\n",
        "    final_df = pd.DataFrame()\n",
        "\n",
        "    for state in states:\n",
        "        # download annual peak discharge records\n",
        "        df = nwis.get_record(state_cd=state, start=start_date, service='peaks')\n",
        "        # group the data by site and apply our regression\n",
        "        temp = df.groupby('site_no').apply(peak_trend_regression).dropna()\n",
        "        # drop any insignificant results\n",
        "        temp = temp[temp['p_value']<0.05]\n",
        "\n",
        "        # now download metadata for each site, which we'll use later to plot the sites\n",
        "        # on a map\n",
        "        site_df = nwis.get_record(sites=temp.index, service='site')\n",
        "\n",
        "        if final_df.empty:\n",
        "            final_df = pd.merge(site_df, temp, right_index=True, left_on='site_no')\n",
        "\n",
        "        else:\n",
        "            final_df = final_df.append( pd.merge(site_df, temp, right_index=True, left_on='site_no') )\n",
        "\n",
        "    return final_df\n",
        "\n"
      ]
    },
    {
      "cell_type": "markdown",
      "metadata": {
        "id": "tgN8WDGVhK8N"
      },
      "source": [
        "To run the analysis for all states since 1970, one would only need to uncomment and run the following lines. However, pulling all that data from NWIS takes time and puts and could put a burden on resoures."
      ]
    },
    {
      "cell_type": "code",
      "execution_count": null,
      "metadata": {
        "id": "s9Q-v3GShK8O"
      },
      "outputs": [],
      "source": [
        "# Warning these lines will download a large dataset from the web and\n",
        "# will take few minutes to run.\n",
        "\n",
        "#start = '1970-01-01'\n",
        "#states = codes.state_codes\n",
        "#final_df = peak_trend_analysis(states=states, start_date=start)\n",
        "#final_df.to_csv('datasets/peak_discharge_trends.csv')"
      ]
    },
    {
      "cell_type": "markdown",
      "metadata": {
        "id": "ffgnUkAnhK8O"
      },
      "source": [
        "Instead, lets quickly load some predownloaded data, which I generated using the code above."
      ]
    },
    {
      "cell_type": "code",
      "execution_count": null,
      "metadata": {
        "id": "4BDALr9qhK8O"
      },
      "outputs": [],
      "source": [
        "final_df = pd.read_csv('datasets/peak_discharge_trends.csv')\n",
        "final_df.head()"
      ]
    },
    {
      "cell_type": "markdown",
      "metadata": {
        "id": "C_C5bZMRhK8O"
      },
      "source": [
        "Notice how the data has been transformed. In addition to statistics about the peak streamflow trends, we've also used the NWIS site service to add latitude and longtitude information for each station."
      ]
    },
    {
      "cell_type": "markdown",
      "metadata": {
        "id": "OIze5OuqhK8O"
      },
      "source": [
        "# Plotting the results\n",
        "Finally we'll use `basemap` and `matplotlib`, along with the location information from NWIS, to plot the results on a map (shown below). Stations with increasing peak annual discharge are shown in red; whereas, stations with decreasing peaks are blue."
      ]
    },
    {
      "cell_type": "code",
      "execution_count": null,
      "metadata": {
        "id": "UiiBfX35hK8P"
      },
      "outputs": [],
      "source": [
        "# Currently commented out as there isn't an easy way to install mpl_toolkits\n",
        "# on a remote machine without spinning up a full geospatial stack.\n",
        "\n",
        "# from mpl_toolkits.basemap import Basemap, cm\n",
        "# import matplotlib.pyplot as plt\n",
        "\n",
        "# fig = plt.figure(num=None, figsize=(10, 6) )\n",
        "\n",
        "# # setup a basemap covering the contiguous United States\n",
        "# m = Basemap(width=5500000, height=4000000, resolution='l',\n",
        "#             projection='aea', lat_1=36., lat_2=44, lon_0=-100, lat_0=40)\n",
        "\n",
        "\n",
        "# # add coastlines\n",
        "# m.drawcoastlines(linewidth=0.5)\n",
        "\n",
        "# # add parallels and meridians.\n",
        "# m.drawparallels(np.arange(-90.,91.,15.),labels=[True,True,False,False],dashes=[2,2])\n",
        "# m.drawmeridians(np.arange(-180.,181.,15.),labels=[False,False,False,True],dashes=[2,2])\n",
        "\n",
        "# # add boundaries and rivers\n",
        "# m.drawcountries(linewidth=1, linestyle='solid', color='k' )\n",
        "# m.drawstates(linewidth=0.5, linestyle='solid', color='k')\n",
        "# m.drawrivers(linewidth=0.5, linestyle='solid', color='cornflowerblue')\n",
        "\n",
        "\n",
        "# increasing = final_df[final_df['slope'] > 0]\n",
        "# decreasing = final_df[final_df['slope'] < 0]\n",
        "\n",
        "# #x,y = m(lons, lats)\n",
        "\n",
        "# # categorical plots get a little  ugly in basemap\n",
        "# m.scatter(increasing['dec_long_va'].tolist(),\n",
        "#           increasing['dec_lat_va'].tolist(),\n",
        "#           label='increasing', s=2, color='red',\n",
        "#           latlon=True)\n",
        "\n",
        "# m.scatter(decreasing['dec_long_va'].tolist(),\n",
        "#           decreasing['dec_lat_va'].tolist(),\n",
        "#           label='increasing', s=2, color='blue',\n",
        "#           latlon=True)"
      ]
    }
  ],
  "metadata": {
    "kernelspec": {
      "display_name": "Python 3.8.13 ('py38')",
      "language": "python",
      "name": "python3"
    },
    "language_info": {
      "codemirror_mode": {
        "name": "ipython",
        "version": 3
      },
      "file_extension": ".py",
      "mimetype": "text/x-python",
      "name": "python",
      "nbconvert_exporter": "python",
      "pygments_lexer": "ipython3",
      "version": "3.8.13"
    },
    "vscode": {
      "interpreter": {
        "hash": "2da9d245c691c2995f0592d1f809d130e15c1d01d60d03d4ca8d56ea51bb4095"
      }
    },
    "colab": {
      "provenance": [],
      "include_colab_link": true
    }
  },
  "nbformat": 4,
  "nbformat_minor": 0
}